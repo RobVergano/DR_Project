{
 "cells": [
  {
   "cell_type": "code",
   "execution_count": 6,
   "metadata": {},
   "outputs": [
    {
     "data": {
      "text/html": [
       "<div>\n",
       "<style scoped>\n",
       "    .dataframe tbody tr th:only-of-type {\n",
       "        vertical-align: middle;\n",
       "    }\n",
       "\n",
       "    .dataframe tbody tr th {\n",
       "        vertical-align: top;\n",
       "    }\n",
       "\n",
       "    .dataframe thead th {\n",
       "        text-align: right;\n",
       "    }\n",
       "</style>\n",
       "<table border=\"1\" class=\"dataframe\">\n",
       "  <thead>\n",
       "    <tr style=\"text-align: right;\">\n",
       "      <th></th>\n",
       "      <th>City</th>\n",
       "      <th>Area</th>\n",
       "      <th>Date</th>\n",
       "      <th>VaccinationRate</th>\n",
       "    </tr>\n",
       "  </thead>\n",
       "  <tbody>\n",
       "    <tr>\n",
       "      <th>0</th>\n",
       "      <td>Limerick</td>\n",
       "      <td>Newcastle West, Limerick</td>\n",
       "      <td>2021 January</td>\n",
       "      <td>2.2</td>\n",
       "    </tr>\n",
       "    <tr>\n",
       "      <th>1</th>\n",
       "      <td>Limerick</td>\n",
       "      <td>Adare-Rathkeale, Limerick</td>\n",
       "      <td>2021 January</td>\n",
       "      <td>NaN</td>\n",
       "    </tr>\n",
       "    <tr>\n",
       "      <th>2</th>\n",
       "      <td>Limerick</td>\n",
       "      <td>Cappamore-Kilmallock, Limerick</td>\n",
       "      <td>2021 January</td>\n",
       "      <td>2.1</td>\n",
       "    </tr>\n",
       "    <tr>\n",
       "      <th>3</th>\n",
       "      <td>Limerick</td>\n",
       "      <td>Limerick City West, Limerick</td>\n",
       "      <td>2021 January</td>\n",
       "      <td>NaN</td>\n",
       "    </tr>\n",
       "    <tr>\n",
       "      <th>4</th>\n",
       "      <td>Limerick</td>\n",
       "      <td>Limerick City North, Limerick</td>\n",
       "      <td>2021 January</td>\n",
       "      <td>3.0</td>\n",
       "    </tr>\n",
       "  </tbody>\n",
       "</table>\n",
       "</div>"
      ],
      "text/plain": [
       "       City                            Area          Date  VaccinationRate\n",
       "0  Limerick        Newcastle West, Limerick  2021 January              2.2\n",
       "1  Limerick       Adare-Rathkeale, Limerick  2021 January              NaN\n",
       "2  Limerick  Cappamore-Kilmallock, Limerick  2021 January              2.1\n",
       "3  Limerick    Limerick City West, Limerick  2021 January              NaN\n",
       "4  Limerick   Limerick City North, Limerick  2021 January              3.0"
      ]
     },
     "execution_count": 6,
     "metadata": {},
     "output_type": "execute_result"
    }
   ],
   "source": [
    "import retrieve_data as rd\n",
    "import pandas as pd\n",
    "\n",
    "rd.weekly_vaccination_rates.head()\n",
    "\n",
    "\n",
    "\n",
    "\n"
   ]
  }
 ],
 "metadata": {
  "kernelspec": {
   "display_name": "base",
   "language": "python",
   "name": "python3"
  },
  "language_info": {
   "codemirror_mode": {
    "name": "ipython",
    "version": 3
   },
   "file_extension": ".py",
   "mimetype": "text/x-python",
   "name": "python",
   "nbconvert_exporter": "python",
   "pygments_lexer": "ipython3",
   "version": "3.11.3"
  }
 },
 "nbformat": 4,
 "nbformat_minor": 2
}
